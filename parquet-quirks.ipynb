{
 "cells": [
  {
   "cell_type": "code",
   "execution_count": 1,
   "id": "d57bfc3b",
   "metadata": {
    "ExecuteTime": {
     "end_time": "2022-09-23T15:26:19.652246Z",
     "start_time": "2022-09-23T15:26:19.623281Z"
    }
   },
   "outputs": [],
   "source": [
    "%load_ext autoreload\n",
    "%autoreload 2"
   ]
  },
  {
   "cell_type": "code",
   "execution_count": 2,
   "id": "1dba8183",
   "metadata": {
    "ExecuteTime": {
     "end_time": "2022-09-23T15:27:15.742817Z",
     "start_time": "2022-09-23T15:27:15.411048Z"
    }
   },
   "outputs": [
    {
     "name": "stderr",
     "output_type": "stream",
     "text": [
      "/var/folders/z4/hdvs0wyx3hsgmt7j31w_d2w40000gn/T/ipykernel_17278/3034166604.py:4: FutureWarning: pandas.util.testing is deprecated. Use the functions in the public API at pandas.testing instead.\n",
      "  import pandas.util.testing as testing\n"
     ]
    }
   ],
   "source": [
    "import os\n",
    "\n",
    "import pandas as pd\n",
    "import pandas.util.testing as testing\n",
    "\n",
    "import numpy as np\n",
    "import pyarrow as pa\n",
    "import pyarrow.parquet as pq"
   ]
  },
  {
   "cell_type": "code",
   "execution_count": 3,
   "id": "9f37909c",
   "metadata": {
    "ExecuteTime": {
     "end_time": "2022-09-23T15:27:19.324238Z",
     "start_time": "2022-09-23T15:27:19.292890Z"
    }
   },
   "outputs": [],
   "source": [
    "def extract_year(df):\n",
    "    \"\"\"\n",
    "    Extract year from date column of the dataframe.\n",
    "\n",
    "    Args:\n",
    "        df (pd.DataFrame): DataFrame for adding the column\n",
    "\n",
    "    Returns:\n",
    "        pd.DataFrame: DataFrame with \"year\" column\n",
    "    \"\"\"\n",
    "    df[\"year\"] = df.date.dt.year\n",
    "    return df"
   ]
  },
  {
   "cell_type": "code",
   "execution_count": 5,
   "id": "d9d9d3fa",
   "metadata": {
    "ExecuteTime": {
     "end_time": "2022-09-23T15:27:41.070053Z",
     "start_time": "2022-09-23T15:27:40.908200Z"
    }
   },
   "outputs": [],
   "source": [
    "!mkdir tmp/"
   ]
  },
  {
   "cell_type": "code",
   "execution_count": 6,
   "id": "d4df9e46",
   "metadata": {
    "ExecuteTime": {
     "end_time": "2022-09-23T15:27:43.104213Z",
     "start_time": "2022-09-23T15:27:43.071092Z"
    }
   },
   "outputs": [],
   "source": [
    "path = \"tmp/\""
   ]
  },
  {
   "cell_type": "code",
   "execution_count": 7,
   "id": "a53526ce",
   "metadata": {
    "ExecuteTime": {
     "end_time": "2022-09-23T15:27:44.135529Z",
     "start_time": "2022-09-23T15:27:44.100519Z"
    }
   },
   "outputs": [],
   "source": [
    "df1 = pd.DataFrame({\"field1\": [\"a\", \"b\", \"c\"]})\n",
    "df1['key'] = 1\n",
    "df1.key = df1.key.astype(\"int64\")\n",
    "\n",
    "df2 = pd.DataFrame({\"field1\": [\"d\", \"e\", \"f\"], \"field2\": [\"j\", \"k\", \"l\"]})\n",
    "df2['key'] = 2\n",
    "df2.key = df2.key.astype(\"int64\")"
   ]
  },
  {
   "cell_type": "markdown",
   "id": "6e1a4486",
   "metadata": {},
   "source": [
    "# `quirk1` - consistent filenames"
   ]
  },
  {
   "cell_type": "code",
   "execution_count": 8,
   "id": "d9e16d01",
   "metadata": {
    "ExecuteTime": {
     "end_time": "2022-09-23T15:27:47.775237Z",
     "start_time": "2022-09-23T15:27:47.618329Z"
    }
   },
   "outputs": [],
   "source": [
    "!rm -rf tmp/quirk1"
   ]
  },
  {
   "cell_type": "code",
   "execution_count": 9,
   "id": "9a779c2f",
   "metadata": {
    "ExecuteTime": {
     "end_time": "2022-09-23T15:27:51.682122Z",
     "start_time": "2022-09-23T15:27:51.652407Z"
    }
   },
   "outputs": [],
   "source": [
    "consistent_path = f\"{path}/quirk1/\""
   ]
  },
  {
   "cell_type": "code",
   "execution_count": 10,
   "id": "ec1b1444",
   "metadata": {
    "ExecuteTime": {
     "end_time": "2022-09-23T15:27:59.281936Z",
     "start_time": "2022-09-23T15:27:59.196702Z"
    },
    "scrolled": true
   },
   "outputs": [],
   "source": [
    "df1.to_parquet(\n",
    "    consistent_path,\n",
    "    engine=\"pyarrow\",\n",
    "    partition_cols=\"key\",\n",
    "    basename_template=\"file-{i}.parquet\",\n",
    ")"
   ]
  },
  {
   "cell_type": "markdown",
   "id": "c6cee052",
   "metadata": {
    "ExecuteTime": {
     "end_time": "2022-08-24T12:29:37.542876Z",
     "start_time": "2022-08-24T12:29:37.489963Z"
    }
   },
   "source": [
    "### workaround"
   ]
  },
  {
   "cell_type": "code",
   "execution_count": 22,
   "id": "03802f8b",
   "metadata": {
    "ExecuteTime": {
     "end_time": "2022-08-24T12:30:43.994412Z",
     "start_time": "2022-08-24T12:30:43.928295Z"
    }
   },
   "outputs": [],
   "source": [
    "df1.to_parquet(\n",
    "    consistent_path, \n",
    "    engine=\"pyarrow\",\n",
    "    partition_cols=\"key\",\n",
    "    basename_template=\"file-{i}.parquet\",\n",
    "    existing_data_behavior=\"overwrite_or_ignore\",\n",
    ")"
   ]
  },
  {
   "cell_type": "markdown",
   "id": "09b197dc",
   "metadata": {
    "ExecuteTime": {
     "end_time": "2022-08-24T12:25:04.015985Z",
     "start_time": "2022-08-24T12:25:03.985588Z"
    }
   },
   "source": [
    "# `quirk2` - merging schemas"
   ]
  },
  {
   "cell_type": "markdown",
   "id": "f11c6b0f",
   "metadata": {},
   "source": [
    "## `quirk2.1` - simple merge"
   ]
  },
  {
   "cell_type": "code",
   "execution_count": 11,
   "id": "b00b7ed0",
   "metadata": {
    "ExecuteTime": {
     "end_time": "2022-09-23T15:28:22.862429Z",
     "start_time": "2022-09-23T15:28:22.706773Z"
    }
   },
   "outputs": [],
   "source": [
    "!rm -rf tmp/quirk2.1"
   ]
  },
  {
   "cell_type": "code",
   "execution_count": 12,
   "id": "22aad48d",
   "metadata": {
    "ExecuteTime": {
     "end_time": "2022-09-23T15:28:28.675962Z",
     "start_time": "2022-09-23T15:28:28.643655Z"
    }
   },
   "outputs": [],
   "source": [
    "merge_path_1 = f\"{path}/quirk2.1/\""
   ]
  },
  {
   "cell_type": "code",
   "execution_count": 13,
   "id": "01bc7b89",
   "metadata": {
    "ExecuteTime": {
     "end_time": "2022-09-23T15:28:34.754578Z",
     "start_time": "2022-09-23T15:28:34.720129Z"
    }
   },
   "outputs": [],
   "source": [
    "df1.to_parquet(merge_path_1, engine=\"pyarrow\", partition_cols=\"key\")\n",
    "df2.to_parquet(merge_path_1, engine=\"pyarrow\", partition_cols=\"key\")"
   ]
  },
  {
   "cell_type": "code",
   "execution_count": 14,
   "id": "f66d9f01",
   "metadata": {
    "ExecuteTime": {
     "end_time": "2022-09-23T15:28:35.832688Z",
     "start_time": "2022-09-23T15:28:35.784690Z"
    }
   },
   "outputs": [
    {
     "data": {
      "text/html": [
       "<div>\n",
       "<style scoped>\n",
       "    .dataframe tbody tr th:only-of-type {\n",
       "        vertical-align: middle;\n",
       "    }\n",
       "\n",
       "    .dataframe tbody tr th {\n",
       "        vertical-align: top;\n",
       "    }\n",
       "\n",
       "    .dataframe thead th {\n",
       "        text-align: right;\n",
       "    }\n",
       "</style>\n",
       "<table border=\"1\" class=\"dataframe\">\n",
       "  <thead>\n",
       "    <tr style=\"text-align: right;\">\n",
       "      <th></th>\n",
       "      <th>field1</th>\n",
       "      <th>key</th>\n",
       "    </tr>\n",
       "  </thead>\n",
       "  <tbody>\n",
       "    <tr>\n",
       "      <th>0</th>\n",
       "      <td>a</td>\n",
       "      <td>1</td>\n",
       "    </tr>\n",
       "    <tr>\n",
       "      <th>1</th>\n",
       "      <td>b</td>\n",
       "      <td>1</td>\n",
       "    </tr>\n",
       "    <tr>\n",
       "      <th>2</th>\n",
       "      <td>c</td>\n",
       "      <td>1</td>\n",
       "    </tr>\n",
       "    <tr>\n",
       "      <th>3</th>\n",
       "      <td>d</td>\n",
       "      <td>2</td>\n",
       "    </tr>\n",
       "    <tr>\n",
       "      <th>4</th>\n",
       "      <td>e</td>\n",
       "      <td>2</td>\n",
       "    </tr>\n",
       "    <tr>\n",
       "      <th>5</th>\n",
       "      <td>f</td>\n",
       "      <td>2</td>\n",
       "    </tr>\n",
       "  </tbody>\n",
       "</table>\n",
       "</div>"
      ],
      "text/plain": [
       "  field1 key\n",
       "0      a   1\n",
       "1      b   1\n",
       "2      c   1\n",
       "3      d   2\n",
       "4      e   2\n",
       "5      f   2"
      ]
     },
     "execution_count": 14,
     "metadata": {},
     "output_type": "execute_result"
    }
   ],
   "source": [
    "pd.read_parquet(merge_path_1)"
   ]
  },
  {
   "cell_type": "markdown",
   "id": "6ba4f9a3",
   "metadata": {},
   "source": [
    "### workaround"
   ]
  },
  {
   "cell_type": "code",
   "execution_count": 15,
   "id": "15843507",
   "metadata": {
    "ExecuteTime": {
     "end_time": "2022-09-23T15:29:01.793736Z",
     "start_time": "2022-09-23T15:29:01.759713Z"
    }
   },
   "outputs": [
    {
     "data": {
      "text/html": [
       "<div>\n",
       "<style scoped>\n",
       "    .dataframe tbody tr th:only-of-type {\n",
       "        vertical-align: middle;\n",
       "    }\n",
       "\n",
       "    .dataframe tbody tr th {\n",
       "        vertical-align: top;\n",
       "    }\n",
       "\n",
       "    .dataframe thead th {\n",
       "        text-align: right;\n",
       "    }\n",
       "</style>\n",
       "<table border=\"1\" class=\"dataframe\">\n",
       "  <thead>\n",
       "    <tr style=\"text-align: right;\">\n",
       "      <th></th>\n",
       "      <th>field1</th>\n",
       "      <th>key</th>\n",
       "      <th>field2</th>\n",
       "    </tr>\n",
       "  </thead>\n",
       "  <tbody>\n",
       "    <tr>\n",
       "      <th>0</th>\n",
       "      <td>a</td>\n",
       "      <td>1</td>\n",
       "      <td>None</td>\n",
       "    </tr>\n",
       "    <tr>\n",
       "      <th>1</th>\n",
       "      <td>b</td>\n",
       "      <td>1</td>\n",
       "      <td>None</td>\n",
       "    </tr>\n",
       "    <tr>\n",
       "      <th>2</th>\n",
       "      <td>c</td>\n",
       "      <td>1</td>\n",
       "      <td>None</td>\n",
       "    </tr>\n",
       "    <tr>\n",
       "      <th>3</th>\n",
       "      <td>d</td>\n",
       "      <td>2</td>\n",
       "      <td>j</td>\n",
       "    </tr>\n",
       "    <tr>\n",
       "      <th>4</th>\n",
       "      <td>e</td>\n",
       "      <td>2</td>\n",
       "      <td>k</td>\n",
       "    </tr>\n",
       "    <tr>\n",
       "      <th>5</th>\n",
       "      <td>f</td>\n",
       "      <td>2</td>\n",
       "      <td>l</td>\n",
       "    </tr>\n",
       "  </tbody>\n",
       "</table>\n",
       "</div>"
      ],
      "text/plain": [
       "  field1  key field2\n",
       "0      a    1   None\n",
       "1      b    1   None\n",
       "2      c    1   None\n",
       "3      d    2      j\n",
       "4      e    2      k\n",
       "5      f    2      l"
      ]
     },
     "execution_count": 15,
     "metadata": {},
     "output_type": "execute_result"
    }
   ],
   "source": [
    "df1_schema = pa.Schema.from_pandas(df1)\n",
    "df2_schema = pa.Schema.from_pandas(df2)\n",
    "\n",
    "schema = pa.unify_schemas((df1_schema, df2_schema))\n",
    "\n",
    "pd.read_parquet(merge_path_1, schema=schema)"
   ]
  },
  {
   "cell_type": "markdown",
   "id": "d8ba533a",
   "metadata": {},
   "source": [
    "## `quirk2.2` - inconsistent dtypes"
   ]
  },
  {
   "cell_type": "code",
   "execution_count": 16,
   "id": "0846f576",
   "metadata": {
    "ExecuteTime": {
     "end_time": "2022-09-23T15:29:14.354888Z",
     "start_time": "2022-09-23T15:29:14.201744Z"
    }
   },
   "outputs": [],
   "source": [
    "!rm -rf tmp/quirk2.2"
   ]
  },
  {
   "cell_type": "code",
   "execution_count": 17,
   "id": "cd06c026",
   "metadata": {
    "ExecuteTime": {
     "end_time": "2022-09-23T15:29:17.466767Z",
     "start_time": "2022-09-23T15:29:17.431884Z"
    }
   },
   "outputs": [],
   "source": [
    "df3 = pd.DataFrame({\"field1\": [1, 2, 3], \"field2\": [\"j\", \"k\", \"l\"]})\n",
    "df3['key'] = 2\n",
    "df3.key = df3.key.astype(\"int64\")"
   ]
  },
  {
   "cell_type": "code",
   "execution_count": 18,
   "id": "f1be1bb2",
   "metadata": {
    "ExecuteTime": {
     "end_time": "2022-09-23T15:29:18.522869Z",
     "start_time": "2022-09-23T15:29:18.493534Z"
    }
   },
   "outputs": [],
   "source": [
    "merge_path_2 = f\"{path}/quirk2.2/\""
   ]
  },
  {
   "cell_type": "code",
   "execution_count": 19,
   "id": "2d2143dd",
   "metadata": {
    "ExecuteTime": {
     "end_time": "2022-09-23T15:29:26.777845Z",
     "start_time": "2022-09-23T15:29:26.511618Z"
    },
    "scrolled": true
   },
   "outputs": [
    {
     "ename": "ArrowInvalid",
     "evalue": "Unable to merge: Field field1 has incompatible types: string vs int64",
     "output_type": "error",
     "traceback": [
      "\u001b[0;31m---------------------------------------------------------------------------\u001b[0m",
      "\u001b[0;31mArrowInvalid\u001b[0m                              Traceback (most recent call last)",
      "Input \u001b[0;32mIn [19]\u001b[0m, in \u001b[0;36m<cell line: 4>\u001b[0;34m()\u001b[0m\n\u001b[1;32m      1\u001b[0m df1_schema \u001b[38;5;241m=\u001b[39m pa\u001b[38;5;241m.\u001b[39mSchema\u001b[38;5;241m.\u001b[39mfrom_pandas(df1)\n\u001b[1;32m      2\u001b[0m df3_schema \u001b[38;5;241m=\u001b[39m pa\u001b[38;5;241m.\u001b[39mSchema\u001b[38;5;241m.\u001b[39mfrom_pandas(df3)\n\u001b[0;32m----> 4\u001b[0m schema \u001b[38;5;241m=\u001b[39m \u001b[43mpa\u001b[49m\u001b[38;5;241;43m.\u001b[39;49m\u001b[43munify_schemas\u001b[49m\u001b[43m(\u001b[49m\u001b[43m(\u001b[49m\u001b[43mdf1_schema\u001b[49m\u001b[43m,\u001b[49m\u001b[43m \u001b[49m\u001b[43mdf3_schema\u001b[49m\u001b[43m)\u001b[49m\u001b[43m)\u001b[49m\n",
      "File \u001b[0;32m~/miniforge3/envs/argo/lib/python3.10/site-packages/pyarrow/types.pxi:2216\u001b[0m, in \u001b[0;36mpyarrow.lib.unify_schemas\u001b[0;34m()\u001b[0m\n",
      "File \u001b[0;32m~/miniforge3/envs/argo/lib/python3.10/site-packages/pyarrow/error.pxi:144\u001b[0m, in \u001b[0;36mpyarrow.lib.pyarrow_internal_check_status\u001b[0;34m()\u001b[0m\n",
      "File \u001b[0;32m~/miniforge3/envs/argo/lib/python3.10/site-packages/pyarrow/error.pxi:100\u001b[0m, in \u001b[0;36mpyarrow.lib.check_status\u001b[0;34m()\u001b[0m\n",
      "\u001b[0;31mArrowInvalid\u001b[0m: Unable to merge: Field field1 has incompatible types: string vs int64"
     ]
    }
   ],
   "source": [
    "df1_schema = pa.Schema.from_pandas(df1)\n",
    "df3_schema = pa.Schema.from_pandas(df3)\n",
    "\n",
    "schema = pa.unify_schemas((df1_schema, df3_schema))"
   ]
  },
  {
   "cell_type": "markdown",
   "id": "202cc9da",
   "metadata": {},
   "source": [
    "### workaround"
   ]
  },
  {
   "cell_type": "code",
   "execution_count": 20,
   "id": "3a256a20",
   "metadata": {
    "ExecuteTime": {
     "end_time": "2022-09-23T15:29:28.908885Z",
     "start_time": "2022-09-23T15:29:28.878017Z"
    }
   },
   "outputs": [],
   "source": [
    "df1 = df1.astype(\"string[pyarrow]\")\n",
    "df3 = df3.astype(\"string[pyarrow]\")"
   ]
  },
  {
   "cell_type": "code",
   "execution_count": 21,
   "id": "11dd0261",
   "metadata": {
    "ExecuteTime": {
     "end_time": "2022-09-23T15:29:35.166178Z",
     "start_time": "2022-09-23T15:29:35.133835Z"
    }
   },
   "outputs": [],
   "source": [
    "df1_schema = pa.Schema.from_pandas(df1)\n",
    "df3_schema = pa.Schema.from_pandas(df3)\n",
    "\n",
    "schema = pa.unify_schemas((df1_schema, df3_schema))"
   ]
  },
  {
   "cell_type": "code",
   "execution_count": 22,
   "id": "80545936",
   "metadata": {
    "ExecuteTime": {
     "end_time": "2022-09-23T15:29:35.986824Z",
     "start_time": "2022-09-23T15:29:35.954346Z"
    }
   },
   "outputs": [],
   "source": [
    "df1.to_parquet(merge_path_2, engine=\"pyarrow\", partition_cols=\"key\")\n",
    "df3.to_parquet(merge_path_2, engine=\"pyarrow\", partition_cols=\"key\")"
   ]
  },
  {
   "cell_type": "code",
   "execution_count": 23,
   "id": "7d79fb25",
   "metadata": {
    "ExecuteTime": {
     "end_time": "2022-09-23T15:29:37.139148Z",
     "start_time": "2022-09-23T15:29:37.103103Z"
    }
   },
   "outputs": [
    {
     "data": {
      "text/html": [
       "<div>\n",
       "<style scoped>\n",
       "    .dataframe tbody tr th:only-of-type {\n",
       "        vertical-align: middle;\n",
       "    }\n",
       "\n",
       "    .dataframe tbody tr th {\n",
       "        vertical-align: top;\n",
       "    }\n",
       "\n",
       "    .dataframe thead th {\n",
       "        text-align: right;\n",
       "    }\n",
       "</style>\n",
       "<table border=\"1\" class=\"dataframe\">\n",
       "  <thead>\n",
       "    <tr style=\"text-align: right;\">\n",
       "      <th></th>\n",
       "      <th>field1</th>\n",
       "      <th>key</th>\n",
       "      <th>field2</th>\n",
       "    </tr>\n",
       "  </thead>\n",
       "  <tbody>\n",
       "    <tr>\n",
       "      <th>0</th>\n",
       "      <td>a</td>\n",
       "      <td>1</td>\n",
       "      <td>None</td>\n",
       "    </tr>\n",
       "    <tr>\n",
       "      <th>1</th>\n",
       "      <td>b</td>\n",
       "      <td>1</td>\n",
       "      <td>None</td>\n",
       "    </tr>\n",
       "    <tr>\n",
       "      <th>2</th>\n",
       "      <td>c</td>\n",
       "      <td>1</td>\n",
       "      <td>None</td>\n",
       "    </tr>\n",
       "    <tr>\n",
       "      <th>3</th>\n",
       "      <td>1</td>\n",
       "      <td>2</td>\n",
       "      <td>j</td>\n",
       "    </tr>\n",
       "    <tr>\n",
       "      <th>4</th>\n",
       "      <td>2</td>\n",
       "      <td>2</td>\n",
       "      <td>k</td>\n",
       "    </tr>\n",
       "    <tr>\n",
       "      <th>5</th>\n",
       "      <td>3</td>\n",
       "      <td>2</td>\n",
       "      <td>l</td>\n",
       "    </tr>\n",
       "  </tbody>\n",
       "</table>\n",
       "</div>"
      ],
      "text/plain": [
       "  field1 key field2\n",
       "0      a   1   None\n",
       "1      b   1   None\n",
       "2      c   1   None\n",
       "3      1   2      j\n",
       "4      2   2      k\n",
       "5      3   2      l"
      ]
     },
     "execution_count": 23,
     "metadata": {},
     "output_type": "execute_result"
    }
   ],
   "source": [
    "pd.read_parquet(merge_path_2, schema=schema)"
   ]
  },
  {
   "cell_type": "markdown",
   "id": "b714ab84",
   "metadata": {},
   "source": [
    "# `quirk3` - saving schema"
   ]
  },
  {
   "cell_type": "code",
   "execution_count": 24,
   "id": "ea03cf61",
   "metadata": {
    "ExecuteTime": {
     "end_time": "2022-09-23T15:29:39.223598Z",
     "start_time": "2022-09-23T15:29:39.061622Z"
    }
   },
   "outputs": [],
   "source": [
    "!rm -rf tmp/quirk3"
   ]
  },
  {
   "cell_type": "code",
   "execution_count": 25,
   "id": "904456e2",
   "metadata": {
    "ExecuteTime": {
     "end_time": "2022-09-23T15:29:39.443410Z",
     "start_time": "2022-09-23T15:29:39.410518Z"
    }
   },
   "outputs": [],
   "source": [
    "saving_path = f\"{path}/quirk3/\""
   ]
  },
  {
   "cell_type": "code",
   "execution_count": 26,
   "id": "f9df11e9",
   "metadata": {
    "ExecuteTime": {
     "end_time": "2022-09-23T15:29:43.396786Z",
     "start_time": "2022-09-23T15:29:43.220613Z"
    }
   },
   "outputs": [
    {
     "name": "stdout",
     "output_type": "stream",
     "text": [
      "(10000, 6)\n"
     ]
    },
    {
     "data": {
      "text/html": [
       "<div>\n",
       "<style scoped>\n",
       "    .dataframe tbody tr th:only-of-type {\n",
       "        vertical-align: middle;\n",
       "    }\n",
       "\n",
       "    .dataframe tbody tr th {\n",
       "        vertical-align: top;\n",
       "    }\n",
       "\n",
       "    .dataframe thead th {\n",
       "        text-align: right;\n",
       "    }\n",
       "</style>\n",
       "<table border=\"1\" class=\"dataframe\">\n",
       "  <thead>\n",
       "    <tr style=\"text-align: right;\">\n",
       "      <th></th>\n",
       "      <th>date</th>\n",
       "      <th>A</th>\n",
       "      <th>B</th>\n",
       "      <th>C</th>\n",
       "      <th>D</th>\n",
       "      <th>year</th>\n",
       "    </tr>\n",
       "  </thead>\n",
       "  <tbody>\n",
       "    <tr>\n",
       "      <th>0</th>\n",
       "      <td>2000-01-03</td>\n",
       "      <td>0.496714</td>\n",
       "      <td>-0.678495</td>\n",
       "      <td>0.348286</td>\n",
       "      <td>-1.980572</td>\n",
       "      <td>2000</td>\n",
       "    </tr>\n",
       "    <tr>\n",
       "      <th>1</th>\n",
       "      <td>2000-01-04</td>\n",
       "      <td>-0.138264</td>\n",
       "      <td>-0.305499</td>\n",
       "      <td>0.283324</td>\n",
       "      <td>-1.054986</td>\n",
       "      <td>2000</td>\n",
       "    </tr>\n",
       "    <tr>\n",
       "      <th>2</th>\n",
       "      <td>2000-01-05</td>\n",
       "      <td>0.647689</td>\n",
       "      <td>-0.597381</td>\n",
       "      <td>-0.936520</td>\n",
       "      <td>-0.587028</td>\n",
       "      <td>2000</td>\n",
       "    </tr>\n",
       "    <tr>\n",
       "      <th>3</th>\n",
       "      <td>2000-01-06</td>\n",
       "      <td>1.523030</td>\n",
       "      <td>0.110418</td>\n",
       "      <td>0.579584</td>\n",
       "      <td>0.149669</td>\n",
       "      <td>2000</td>\n",
       "    </tr>\n",
       "    <tr>\n",
       "      <th>4</th>\n",
       "      <td>2000-01-07</td>\n",
       "      <td>-0.234153</td>\n",
       "      <td>1.197179</td>\n",
       "      <td>-1.490083</td>\n",
       "      <td>1.024162</td>\n",
       "      <td>2000</td>\n",
       "    </tr>\n",
       "  </tbody>\n",
       "</table>\n",
       "</div>"
      ],
      "text/plain": [
       "        date         A         B         C         D  year\n",
       "0 2000-01-03  0.496714 -0.678495  0.348286 -1.980572  2000\n",
       "1 2000-01-04 -0.138264 -0.305499  0.283324 -1.054986  2000\n",
       "2 2000-01-05  0.647689 -0.597381 -0.936520 -0.587028  2000\n",
       "3 2000-01-06  1.523030  0.110418  0.579584  0.149669  2000\n",
       "4 2000-01-07 -0.234153  1.197179 -1.490083  1.024162  2000"
      ]
     },
     "execution_count": 26,
     "metadata": {},
     "output_type": "execute_result"
    }
   ],
   "source": [
    "np.random.seed(42)\n",
    "\n",
    "df = (\n",
    "    testing.makeTimeDataFrame(nper=10_000)\n",
    "    .reset_index()\n",
    "    .rename(columns={\"index\": \"date\"})\n",
    "    .pipe(extract_year)\n",
    ")\n",
    "\n",
    "print(df.shape)\n",
    "df.head()"
   ]
  },
  {
   "cell_type": "code",
   "execution_count": 27,
   "id": "bce072c7",
   "metadata": {
    "ExecuteTime": {
     "end_time": "2022-09-23T15:29:46.081759Z",
     "start_time": "2022-09-23T15:29:46.032761Z"
    }
   },
   "outputs": [],
   "source": [
    "df.to_parquet(\n",
    "        saving_path,\n",
    "        engine=\"pyarrow\",\n",
    "        partition_cols=\"year\")"
   ]
  },
  {
   "cell_type": "code",
   "execution_count": 28,
   "id": "e0e3f53c",
   "metadata": {
    "ExecuteTime": {
     "end_time": "2022-09-23T15:29:50.790788Z",
     "start_time": "2022-09-23T15:29:50.760677Z"
    }
   },
   "outputs": [
    {
     "data": {
      "text/plain": [
       "date: timestamp[ns]\n",
       "A: double\n",
       "B: double\n",
       "C: double\n",
       "D: double\n",
       "year: int64\n",
       "-- schema metadata --\n",
       "pandas: '{\"index_columns\": [{\"kind\": \"range\", \"name\": null, \"start\": 0, \"' + 896"
      ]
     },
     "execution_count": 28,
     "metadata": {},
     "output_type": "execute_result"
    }
   ],
   "source": [
    "schema = pa.Schema.from_pandas(df)\n",
    "schema"
   ]
  },
  {
   "cell_type": "code",
   "execution_count": 29,
   "id": "90698157",
   "metadata": {
    "ExecuteTime": {
     "end_time": "2022-09-23T15:29:52.496141Z",
     "start_time": "2022-09-23T15:29:52.461861Z"
    }
   },
   "outputs": [],
   "source": [
    "pq.write_metadata(schema, f\"{saving_path}/_common_metadata\")"
   ]
  },
  {
   "cell_type": "code",
   "execution_count": 30,
   "id": "cb5ece8b",
   "metadata": {
    "ExecuteTime": {
     "end_time": "2022-09-23T15:29:55.337227Z",
     "start_time": "2022-09-23T15:29:55.304587Z"
    }
   },
   "outputs": [
    {
     "data": {
      "text/plain": [
       "date: timestamp[us]\n",
       "A: double\n",
       "B: double\n",
       "C: double\n",
       "D: double\n",
       "year: int64\n",
       "-- schema metadata --\n",
       "pandas: '{\"index_columns\": [{\"kind\": \"range\", \"name\": null, \"start\": 0, \"' + 896"
      ]
     },
     "execution_count": 30,
     "metadata": {},
     "output_type": "execute_result"
    }
   ],
   "source": [
    "# timestamp changed from ns to us in `date` column\n",
    "pq.read_schema(f\"{saving_path}/_common_metadata\")"
   ]
  },
  {
   "cell_type": "markdown",
   "id": "8bc26dd4",
   "metadata": {},
   "source": [
    "### workaround"
   ]
  },
  {
   "cell_type": "code",
   "execution_count": 31,
   "id": "b0883303",
   "metadata": {
    "ExecuteTime": {
     "end_time": "2022-09-23T15:31:17.706228Z",
     "start_time": "2022-09-23T15:31:17.673776Z"
    }
   },
   "outputs": [
    {
     "data": {
      "text/plain": [
       "date: timestamp[ns]\n",
       "A: double\n",
       "B: double\n",
       "C: double\n",
       "D: double\n",
       "year: int64\n",
       "-- schema metadata --\n",
       "pandas: '{\"index_columns\": [{\"kind\": \"range\", \"name\": null, \"start\": 0, \"' + 896"
      ]
     },
     "execution_count": 31,
     "metadata": {},
     "output_type": "execute_result"
    }
   ],
   "source": [
    "pq.write_metadata(schema, f\"{saving_path}/_common_metadata\", use_deprecated_int96_timestamps=True)\n",
    "pq.read_schema(f\"{saving_path}/_common_metadata\")"
   ]
  },
  {
   "cell_type": "markdown",
   "id": "106f26d9",
   "metadata": {},
   "source": [
    "# quirk4 - single value in partition col"
   ]
  },
  {
   "cell_type": "code",
   "execution_count": 32,
   "id": "ad3e930d",
   "metadata": {
    "ExecuteTime": {
     "end_time": "2022-09-23T15:31:20.049780Z",
     "start_time": "2022-09-23T15:31:19.891954Z"
    }
   },
   "outputs": [],
   "source": [
    "!rm -rf tmp/quirk4"
   ]
  },
  {
   "cell_type": "code",
   "execution_count": 33,
   "id": "0c778632",
   "metadata": {
    "ExecuteTime": {
     "end_time": "2022-09-23T15:31:20.278189Z",
     "start_time": "2022-09-23T15:31:20.244050Z"
    }
   },
   "outputs": [],
   "source": [
    "single_partition_path = f\"{path}/quirk4/\""
   ]
  },
  {
   "cell_type": "code",
   "execution_count": 34,
   "id": "671753b5",
   "metadata": {
    "ExecuteTime": {
     "end_time": "2022-09-23T15:31:21.102920Z",
     "start_time": "2022-09-23T15:31:21.070520Z"
    }
   },
   "outputs": [],
   "source": [
    "y2038 = df[df[\"year\"] == 2038]"
   ]
  },
  {
   "cell_type": "code",
   "execution_count": 35,
   "id": "86ee5ae1",
   "metadata": {
    "ExecuteTime": {
     "end_time": "2022-09-23T15:31:23.008105Z",
     "start_time": "2022-09-23T15:31:22.973935Z"
    }
   },
   "outputs": [],
   "source": [
    "y2038.to_parquet(\n",
    "    single_partition_path,\n",
    "    engine=\"pyarrow\",\n",
    "    partition_cols=\"year\"\n",
    ")"
   ]
  },
  {
   "cell_type": "code",
   "execution_count": 36,
   "id": "d3475cbe",
   "metadata": {
    "ExecuteTime": {
     "end_time": "2022-09-23T15:31:24.860150Z",
     "start_time": "2022-09-23T15:31:24.818398Z"
    }
   },
   "outputs": [
    {
     "name": "stdout",
     "output_type": "stream",
     "text": [
      "<class 'pandas.core.frame.DataFrame'>\n",
      "Int64Index: 86 entries, 9914 to 9999\n",
      "Data columns (total 6 columns):\n",
      " #   Column  Non-Null Count  Dtype         \n",
      "---  ------  --------------  -----         \n",
      " 0   date    86 non-null     datetime64[ns]\n",
      " 1   A       86 non-null     float64       \n",
      " 2   B       86 non-null     float64       \n",
      " 3   C       86 non-null     float64       \n",
      " 4   D       86 non-null     float64       \n",
      " 5   year    86 non-null     category      \n",
      "dtypes: category(1), datetime64[ns](1), float64(4)\n",
      "memory usage: 4.2 KB\n"
     ]
    }
   ],
   "source": [
    "read_y2038 = pd.read_parquet(single_partition_path, engine=\"pyarrow\")\n",
    "read_y2038.info()"
   ]
  },
  {
   "cell_type": "markdown",
   "id": "400b46cd",
   "metadata": {
    "ExecuteTime": {
     "end_time": "2022-08-24T12:53:57.471056Z",
     "start_time": "2022-08-24T12:53:57.430474Z"
    }
   },
   "source": [
    "### workaround"
   ]
  },
  {
   "cell_type": "code",
   "execution_count": 37,
   "id": "7f85a377",
   "metadata": {
    "ExecuteTime": {
     "end_time": "2022-09-23T15:31:29.106307Z",
     "start_time": "2022-09-23T15:31:29.075743Z"
    }
   },
   "outputs": [],
   "source": [
    "schema = pa.Schema.from_pandas(df)\n",
    "pq.write_metadata(schema, f\"{single_partition_path}/_common_metadata\", use_deprecated_int96_timestamps=True)"
   ]
  },
  {
   "cell_type": "code",
   "execution_count": 38,
   "id": "cef3d4b8",
   "metadata": {
    "ExecuteTime": {
     "end_time": "2022-09-23T15:31:29.812008Z",
     "start_time": "2022-09-23T15:31:29.780457Z"
    }
   },
   "outputs": [
    {
     "data": {
      "text/plain": [
       "date: timestamp[ns]\n",
       "A: double\n",
       "B: double\n",
       "C: double\n",
       "D: double\n",
       "year: int64\n",
       "-- schema metadata --\n",
       "pandas: '{\"index_columns\": [{\"kind\": \"range\", \"name\": null, \"start\": 0, \"' + 896"
      ]
     },
     "execution_count": 38,
     "metadata": {},
     "output_type": "execute_result"
    }
   ],
   "source": [
    "read_schema = pq.read_schema(f\"{single_partition_path}/_common_metadata\")\n",
    "read_schema"
   ]
  },
  {
   "cell_type": "code",
   "execution_count": 39,
   "id": "f478aae3",
   "metadata": {
    "ExecuteTime": {
     "end_time": "2022-09-23T15:31:32.783112Z",
     "start_time": "2022-09-23T15:31:32.748083Z"
    }
   },
   "outputs": [
    {
     "name": "stdout",
     "output_type": "stream",
     "text": [
      "<class 'pandas.core.frame.DataFrame'>\n",
      "RangeIndex: 86 entries, 0 to 85\n",
      "Data columns (total 6 columns):\n",
      " #   Column  Non-Null Count  Dtype         \n",
      "---  ------  --------------  -----         \n",
      " 0   date    86 non-null     datetime64[ns]\n",
      " 1   A       86 non-null     float64       \n",
      " 2   B       86 non-null     float64       \n",
      " 3   C       86 non-null     float64       \n",
      " 4   D       86 non-null     float64       \n",
      " 5   year    86 non-null     int64         \n",
      "dtypes: datetime64[ns](1), float64(4), int64(1)\n",
      "memory usage: 4.2 KB\n"
     ]
    }
   ],
   "source": [
    "read_y2038 = pd.read_parquet(single_partition_path, engine=\"pyarrow\", schema=read_schema)\n",
    "read_y2038.info()"
   ]
  },
  {
   "cell_type": "code",
   "execution_count": null,
   "id": "2f0ffc92",
   "metadata": {},
   "outputs": [],
   "source": []
  }
 ],
 "metadata": {
  "kernelspec": {
   "display_name": "Python 3 (ipykernel)",
   "language": "python",
   "name": "python3"
  },
  "language_info": {
   "codemirror_mode": {
    "name": "ipython",
    "version": 3
   },
   "file_extension": ".py",
   "mimetype": "text/x-python",
   "name": "python",
   "nbconvert_exporter": "python",
   "pygments_lexer": "ipython3",
   "version": "3.10.5"
  }
 },
 "nbformat": 4,
 "nbformat_minor": 5
}
